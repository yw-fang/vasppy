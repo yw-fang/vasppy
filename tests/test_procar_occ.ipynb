{
 "cells": [
  {
   "cell_type": "markdown",
   "metadata": {},
   "source": [
    "# Using the pattern in current vasppy"
   ]
  },
  {
   "cell_type": "code",
   "execution_count": 1,
   "metadata": {},
   "outputs": [],
   "source": [
    "BBTO_SOC_11 = './test_data/PROCAR_SOC_FANG'\n",
    "\n",
    "import re\n",
    "def test(fname):\n",
    "    pattern = r\"band\\s*(\\d+)\\s*#\\s*energy\\s*[-.\\d\\s]+\\s*#\\s\"r\"*occ.\\s*([.\\d\\s]+)\"\n",
    "    # pattern = r\"band\\s*(\\d+)\\s*#\\s*energy\\s*[-.\\d\\s]+\\s*#\\s\"r\"*occ.\\s*([-.\\d\\s]+)\"\n",
    "    with open(fname, 'r') as f:\n",
    "        contents = f.read()\n",
    "        occ = re.findall(pattern, contents)\n",
    "    return(occ)"
   ]
  },
  {
   "cell_type": "code",
   "execution_count": 2,
   "metadata": {},
   "outputs": [
    {
     "data": {
      "text/plain": [
       "[('81', '1.00000000\\n \\n'),\n",
       " ('82', '1.00000000\\n \\n'),\n",
       " ('83', '1.00000000\\n \\n'),\n",
       " ('84', '1.00000000\\n \\n'),\n",
       " ('85', '1.02583045\\n \\n'),\n",
       " ('86', '1.02578427\\n \\n'),\n",
       " ('87', '0.66657051\\n \\n'),\n",
       " ('88', '0.66632847\\n \\n'),\n",
       " ('89', '0.29228476\\n \\n'),\n",
       " ('90', '0.29203861\\n \\n'),\n",
       " ('91', ' '),\n",
       " ('92', ' '),\n",
       " ('93', ' '),\n",
       " ('94', ' '),\n",
       " ('95', ' '),\n",
       " ('96', ' '),\n",
       " ('97', ' '),\n",
       " ('98', ' '),\n",
       " ('99', ' '),\n",
       " ('100', ' ')]"
      ]
     },
     "execution_count": 2,
     "metadata": {},
     "output_type": "execute_result"
    }
   ],
   "source": [
    "occ = test(BBTO_SOC_11)\n",
    "occ[80:100]  # you can find null data below which corresponds to the negative occupancies"
   ]
  },
  {
   "cell_type": "markdown",
   "metadata": {},
   "source": [
    "# Using the revised pattern"
   ]
  },
  {
   "cell_type": "code",
   "execution_count": 3,
   "metadata": {},
   "outputs": [],
   "source": [
    "BBTO_SOC_11 = './test_data/PROCAR_SOC_FANG'\n",
    "\n",
    "import re\n",
    "def test(fname):\n",
    "#     pattern = r\"band\\s*(\\d+)\\s*#\\s*energy\\s*[-.\\d\\s]+\\s*#\\s\"r\"*occ.\\s*([.\\d\\s]+)\"\n",
    "    pattern = r\"band\\s*(\\d+)\\s*#\\s*energy\\s*[-.\\d\\s]+\\s*#\\s\"r\"*occ.\\s*([-.\\d\\s]+)\"\n",
    "    with open(fname, 'r') as f:\n",
    "        contents = f.read()\n",
    "        occ = re.findall(pattern, contents)\n",
    "    return(occ)"
   ]
  },
  {
   "cell_type": "code",
   "execution_count": 4,
   "metadata": {},
   "outputs": [
    {
     "data": {
      "text/plain": [
       "[('81', '1.00000000\\n \\n'),\n",
       " ('82', '1.00000000\\n \\n'),\n",
       " ('83', '1.00000000\\n \\n'),\n",
       " ('84', '1.00000000\\n \\n'),\n",
       " ('85', '1.02583045\\n \\n'),\n",
       " ('86', '1.02578427\\n \\n'),\n",
       " ('87', '0.66657051\\n \\n'),\n",
       " ('88', '0.66632847\\n \\n'),\n",
       " ('89', '0.29228476\\n \\n'),\n",
       " ('90', '0.29203861\\n \\n'),\n",
       " ('91', '-0.03191968\\n \\n'),\n",
       " ('92', '-0.03193819\\n \\n'),\n",
       " ('93', '-0.00000000\\n \\n'),\n",
       " ('94', '-0.00000000\\n \\n'),\n",
       " ('95', '-0.00000000\\n \\n'),\n",
       " ('96', '-0.00000000\\n \\n'),\n",
       " ('97', '-0.00000000\\n \\n'),\n",
       " ('98', '-0.00000000\\n \\n'),\n",
       " ('99', '-0.00000000\\n \\n'),\n",
       " ('100', '-0.00000000\\n \\n')]"
      ]
     },
     "execution_count": 4,
     "metadata": {},
     "output_type": "execute_result"
    }
   ],
   "source": [
    "occ = test(BBTO_SOC_11)\n",
    "occ[80:100] # you can find the negative occupancies can be parsed properly"
   ]
  },
  {
   "cell_type": "code",
   "execution_count": null,
   "metadata": {},
   "outputs": [],
   "source": []
  },
  {
   "cell_type": "code",
   "execution_count": null,
   "metadata": {},
   "outputs": [],
   "source": []
  },
  {
   "cell_type": "code",
   "execution_count": null,
   "metadata": {},
   "outputs": [],
   "source": []
  }
 ],
 "metadata": {
  "kernelspec": {
   "display_name": "Python 3",
   "language": "python",
   "name": "python3"
  },
  "language_info": {
   "codemirror_mode": {
    "name": "ipython",
    "version": 3
   },
   "file_extension": ".py",
   "mimetype": "text/x-python",
   "name": "python",
   "nbconvert_exporter": "python",
   "pygments_lexer": "ipython3",
   "version": "3.6.6"
  }
 },
 "nbformat": 4,
 "nbformat_minor": 2
}
